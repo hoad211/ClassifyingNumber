{
  "cells": [
    {
      "cell_type": "markdown",
      "metadata": {
        "id": "view-in-github",
        "colab_type": "text"
      },
      "source": [
        "<a href=\"https://colab.research.google.com/github/hoad211/ClassifyingNumber/blob/main/FinalProject364HoaNam.ipynb\" target=\"_parent\"><img src=\"https://colab.research.google.com/assets/colab-badge.svg\" alt=\"Open In Colab\"/></a>"
      ]
    },
    {
      "cell_type": "code",
      "execution_count": 2,
      "metadata": {
        "id": "ZOZ5YgiTy3Xy"
      },
      "outputs": [],
      "source": [
        "import pandas as pd\n",
        "import numpy as np\n",
        "import matplotlib.pyplot as plt\n",
        "\n",
        "from tensorflow.keras.models import Sequential\n",
        "from tensorflow.keras.layers import Conv2D, MaxPool2D, BatchNormalization\n",
        "from tensorflow.keras.layers import Flatten, Dense, Dropout\n",
        "\n",
        "from keras.callbacks import EarlyStopping, ReduceLROnPlateau\n",
        "from keras.utils.np_utils import to_categorical\n",
        "from keras.preprocessing.image import ImageDataGenerator\n",
        "\n",
        "from sklearn.model_selection import train_test_split\n",
        "from sklearn.utils import shuffle"
      ]
    },
    {
      "cell_type": "code",
      "execution_count": 1,
      "metadata": {
        "id": "IUKwKdvDS5s3",
        "outputId": "7855f266-219f-437b-d9e6-b88f2afa233f",
        "colab": {
          "base_uri": "https://localhost:8080/",
          "height": 108
        }
      },
      "outputs": [
        {
          "output_type": "display_data",
          "data": {
            "text/plain": [
              "<IPython.core.display.HTML object>"
            ],
            "text/html": [
              "\n",
              "     <input type=\"file\" id=\"files-344ccf61-afb3-4c83-8f4f-14b997d0fa67\" name=\"files[]\" multiple disabled\n",
              "        style=\"border:none\" />\n",
              "     <output id=\"result-344ccf61-afb3-4c83-8f4f-14b997d0fa67\">\n",
              "      Upload widget is only available when the cell has been executed in the\n",
              "      current browser session. Please rerun this cell to enable.\n",
              "      </output>\n",
              "      <script>// Copyright 2017 Google LLC\n",
              "//\n",
              "// Licensed under the Apache License, Version 2.0 (the \"License\");\n",
              "// you may not use this file except in compliance with the License.\n",
              "// You may obtain a copy of the License at\n",
              "//\n",
              "//      http://www.apache.org/licenses/LICENSE-2.0\n",
              "//\n",
              "// Unless required by applicable law or agreed to in writing, software\n",
              "// distributed under the License is distributed on an \"AS IS\" BASIS,\n",
              "// WITHOUT WARRANTIES OR CONDITIONS OF ANY KIND, either express or implied.\n",
              "// See the License for the specific language governing permissions and\n",
              "// limitations under the License.\n",
              "\n",
              "/**\n",
              " * @fileoverview Helpers for google.colab Python module.\n",
              " */\n",
              "(function(scope) {\n",
              "function span(text, styleAttributes = {}) {\n",
              "  const element = document.createElement('span');\n",
              "  element.textContent = text;\n",
              "  for (const key of Object.keys(styleAttributes)) {\n",
              "    element.style[key] = styleAttributes[key];\n",
              "  }\n",
              "  return element;\n",
              "}\n",
              "\n",
              "// Max number of bytes which will be uploaded at a time.\n",
              "const MAX_PAYLOAD_SIZE = 100 * 1024;\n",
              "\n",
              "function _uploadFiles(inputId, outputId) {\n",
              "  const steps = uploadFilesStep(inputId, outputId);\n",
              "  const outputElement = document.getElementById(outputId);\n",
              "  // Cache steps on the outputElement to make it available for the next call\n",
              "  // to uploadFilesContinue from Python.\n",
              "  outputElement.steps = steps;\n",
              "\n",
              "  return _uploadFilesContinue(outputId);\n",
              "}\n",
              "\n",
              "// This is roughly an async generator (not supported in the browser yet),\n",
              "// where there are multiple asynchronous steps and the Python side is going\n",
              "// to poll for completion of each step.\n",
              "// This uses a Promise to block the python side on completion of each step,\n",
              "// then passes the result of the previous step as the input to the next step.\n",
              "function _uploadFilesContinue(outputId) {\n",
              "  const outputElement = document.getElementById(outputId);\n",
              "  const steps = outputElement.steps;\n",
              "\n",
              "  const next = steps.next(outputElement.lastPromiseValue);\n",
              "  return Promise.resolve(next.value.promise).then((value) => {\n",
              "    // Cache the last promise value to make it available to the next\n",
              "    // step of the generator.\n",
              "    outputElement.lastPromiseValue = value;\n",
              "    return next.value.response;\n",
              "  });\n",
              "}\n",
              "\n",
              "/**\n",
              " * Generator function which is called between each async step of the upload\n",
              " * process.\n",
              " * @param {string} inputId Element ID of the input file picker element.\n",
              " * @param {string} outputId Element ID of the output display.\n",
              " * @return {!Iterable<!Object>} Iterable of next steps.\n",
              " */\n",
              "function* uploadFilesStep(inputId, outputId) {\n",
              "  const inputElement = document.getElementById(inputId);\n",
              "  inputElement.disabled = false;\n",
              "\n",
              "  const outputElement = document.getElementById(outputId);\n",
              "  outputElement.innerHTML = '';\n",
              "\n",
              "  const pickedPromise = new Promise((resolve) => {\n",
              "    inputElement.addEventListener('change', (e) => {\n",
              "      resolve(e.target.files);\n",
              "    });\n",
              "  });\n",
              "\n",
              "  const cancel = document.createElement('button');\n",
              "  inputElement.parentElement.appendChild(cancel);\n",
              "  cancel.textContent = 'Cancel upload';\n",
              "  const cancelPromise = new Promise((resolve) => {\n",
              "    cancel.onclick = () => {\n",
              "      resolve(null);\n",
              "    };\n",
              "  });\n",
              "\n",
              "  // Wait for the user to pick the files.\n",
              "  const files = yield {\n",
              "    promise: Promise.race([pickedPromise, cancelPromise]),\n",
              "    response: {\n",
              "      action: 'starting',\n",
              "    }\n",
              "  };\n",
              "\n",
              "  cancel.remove();\n",
              "\n",
              "  // Disable the input element since further picks are not allowed.\n",
              "  inputElement.disabled = true;\n",
              "\n",
              "  if (!files) {\n",
              "    return {\n",
              "      response: {\n",
              "        action: 'complete',\n",
              "      }\n",
              "    };\n",
              "  }\n",
              "\n",
              "  for (const file of files) {\n",
              "    const li = document.createElement('li');\n",
              "    li.append(span(file.name, {fontWeight: 'bold'}));\n",
              "    li.append(span(\n",
              "        `(${file.type || 'n/a'}) - ${file.size} bytes, ` +\n",
              "        `last modified: ${\n",
              "            file.lastModifiedDate ? file.lastModifiedDate.toLocaleDateString() :\n",
              "                                    'n/a'} - `));\n",
              "    const percent = span('0% done');\n",
              "    li.appendChild(percent);\n",
              "\n",
              "    outputElement.appendChild(li);\n",
              "\n",
              "    const fileDataPromise = new Promise((resolve) => {\n",
              "      const reader = new FileReader();\n",
              "      reader.onload = (e) => {\n",
              "        resolve(e.target.result);\n",
              "      };\n",
              "      reader.readAsArrayBuffer(file);\n",
              "    });\n",
              "    // Wait for the data to be ready.\n",
              "    let fileData = yield {\n",
              "      promise: fileDataPromise,\n",
              "      response: {\n",
              "        action: 'continue',\n",
              "      }\n",
              "    };\n",
              "\n",
              "    // Use a chunked sending to avoid message size limits. See b/62115660.\n",
              "    let position = 0;\n",
              "    do {\n",
              "      const length = Math.min(fileData.byteLength - position, MAX_PAYLOAD_SIZE);\n",
              "      const chunk = new Uint8Array(fileData, position, length);\n",
              "      position += length;\n",
              "\n",
              "      const base64 = btoa(String.fromCharCode.apply(null, chunk));\n",
              "      yield {\n",
              "        response: {\n",
              "          action: 'append',\n",
              "          file: file.name,\n",
              "          data: base64,\n",
              "        },\n",
              "      };\n",
              "\n",
              "      let percentDone = fileData.byteLength === 0 ?\n",
              "          100 :\n",
              "          Math.round((position / fileData.byteLength) * 100);\n",
              "      percent.textContent = `${percentDone}% done`;\n",
              "\n",
              "    } while (position < fileData.byteLength);\n",
              "  }\n",
              "\n",
              "  // All done.\n",
              "  yield {\n",
              "    response: {\n",
              "      action: 'complete',\n",
              "    }\n",
              "  };\n",
              "}\n",
              "\n",
              "scope.google = scope.google || {};\n",
              "scope.google.colab = scope.google.colab || {};\n",
              "scope.google.colab._files = {\n",
              "  _uploadFiles,\n",
              "  _uploadFilesContinue,\n",
              "};\n",
              "})(self);\n",
              "</script> "
            ]
          },
          "metadata": {}
        },
        {
          "output_type": "stream",
          "name": "stdout",
          "text": [
            "Saving test.csv to test.csv\n",
            "Saving train.csv to train.csv\n"
          ]
        }
      ],
      "source": [
        "from google.colab import files\n",
        "uploaded = files.upload()"
      ]
    },
    {
      "cell_type": "code",
      "execution_count": 3,
      "metadata": {
        "id": "YGGzHKqPTsWz"
      },
      "outputs": [],
      "source": [
        "import io \n",
        "test = pd.read_csv(io.BytesIO(uploaded['test.csv']))\n",
        "train = pd.read_csv(io.BytesIO(uploaded['train.csv']))"
      ]
    },
    {
      "cell_type": "markdown",
      "metadata": {
        "id": "rEsElKZdVenr"
      },
      "source": [
        "#Setting Seed for future reproduction"
      ]
    },
    {
      "cell_type": "code",
      "execution_count": 4,
      "metadata": {
        "id": "5Vcatuh0UT2W"
      },
      "outputs": [],
      "source": [
        "np.random.seed(1)"
      ]
    },
    {
      "cell_type": "markdown",
      "metadata": {
        "id": "F_b2_YZWVi7P"
      },
      "source": [
        "# Understanding the dataframes"
      ]
    },
    {
      "cell_type": "code",
      "execution_count": null,
      "metadata": {
        "id": "_pi-FVT_XeFI"
      },
      "outputs": [],
      "source": [
        "print(train.shape)\n",
        "train.head()"
      ]
    },
    {
      "cell_type": "code",
      "execution_count": null,
      "metadata": {
        "id": "I-2_BgwbYUzX"
      },
      "outputs": [],
      "source": [
        "print(test.shape)\n",
        "test.head()"
      ]
    },
    {
      "cell_type": "code",
      "execution_count": 7,
      "metadata": {
        "id": "iImYprWjYVQc"
      },
      "outputs": [],
      "source": [
        "X_features = train.drop(labels= [\"label\"],axis = 1)\n",
        "Y_features = train[\"label\"]\n"
      ]
    },
    {
      "cell_type": "code",
      "source": [
        "# Splitting the original set into a training set and a validation set\n",
        "(X_train,X_val,Y_train,Y_val) = train_test_split(X_features,Y_features,test_size=0.3, random_state = 10)\n",
        "print(Y_val.shape)"
      ],
      "metadata": {
        "id": "3lsXbIqenrgr",
        "outputId": "007186df-3b00-4a52-86ee-3569a98aff18",
        "colab": {
          "base_uri": "https://localhost:8080/"
        }
      },
      "execution_count": 8,
      "outputs": [
        {
          "output_type": "stream",
          "name": "stdout",
          "text": [
            "(12600,)\n"
          ]
        }
      ]
    },
    {
      "cell_type": "code",
      "execution_count": 9,
      "metadata": {
        "id": "z0vjEXGAwcS_"
      },
      "outputs": [],
      "source": [
        "X_train = X_train.values.reshape(29400, 28, 28, 1) # Adding a color channel\n",
        "X_val = X_val.values.reshape(12600, 28, 28, 1) # Adding a color channel\n",
        "Y_train = Y_train.values\n",
        "Y_val = Y_val.values"
      ]
    },
    {
      "cell_type": "code",
      "execution_count": null,
      "metadata": {
        "id": "qS9GSugPsP_S"
      },
      "outputs": [],
      "source": [
        "plt.imshow(X_val[0].reshape(28,28),cmap = plt.cm.binary)\n",
        "plt.show()"
      ]
    },
    {
      "cell_type": "code",
      "execution_count": null,
      "metadata": {
        "id": "rQaoFL45ZKFL"
      },
      "outputs": [],
      "source": [
        "fig, axes = plt.subplots(1,5, figsize=(10,5))\n",
        "axes = axes.flatten()\n",
        "idx = np.random.randint(0,29400,size=5)\n",
        "for i in range(5):\n",
        "    axes[i].imshow(X_train[idx[i]].reshape(28,28), cmap=\"gray\")\n",
        "    axes[i].axis('off') # hide the axes ticks\n",
        "    axes[i].set_title(str(int(Y_train[idx[i]])), color= 'black', fontsize=25)\n",
        "plt.show()"
      ]
    },
    {
      "cell_type": "markdown",
      "metadata": {
        "id": "daMh8c_1Ybwq"
      },
      "source": [
        "We apply gray scale normlization to avoid having too noises causing the machine to falsely predict the number"
      ]
    },
    {
      "cell_type": "code",
      "execution_count": 12,
      "metadata": {
        "id": "II8hihXxrrcL"
      },
      "outputs": [],
      "source": [
        "X_train = X_train / X_train.max() #255 \n",
        "X_val = X_val / X_val.max()"
      ]
    },
    {
      "cell_type": "code",
      "execution_count": null,
      "metadata": {
        "id": "_QZbqCessJaM"
      },
      "outputs": [],
      "source": [
        "plt.imshow(X_train[0].reshape(28,28),cmap = plt.cm.binary)\n",
        "plt.show()\n",
        "\n",
        "print(X_train.max())"
      ]
    },
    {
      "cell_type": "code",
      "execution_count": null,
      "metadata": {
        "id": "JzgKkLmuo7qq"
      },
      "outputs": [],
      "source": [
        "fig, axes = plt.subplots(1,5, figsize=(10,5))\n",
        "axes = axes.flatten()\n",
        "for i in range(5):\n",
        "    axes[i].imshow(X_train[idx[i]].reshape(28,28), cmap='gray')\n",
        "    axes[i].axis('off') # hide the axes ticks\n",
        "    axes[i].set_title(str(int(Y_train[idx[i]])), color= 'black', fontsize=25)\n",
        "plt.show()"
      ]
    },
    {
      "cell_type": "code",
      "execution_count": 15,
      "metadata": {
        "id": "T4hmilzxtYBD"
      },
      "outputs": [],
      "source": [
        "#One hot encoding\n",
        "Y_cat_train = to_categorical(Y_train, 10) # short for y_categorical_train\n",
        "Y_cat_val  = to_categorical(Y_val, 10)"
      ]
    },
    {
      "cell_type": "markdown",
      "metadata": {
        "id": "67b5vw09vuJX"
      },
      "source": [
        "\n",
        "# CNN Model"
      ]
    },
    {
      "cell_type": "code",
      "source": [
        "# # AlexNet model\n",
        "# model = Sequential()\n",
        "\n",
        "# model.add(Conv2D(filters = 96, kernel_size = (3,3), input_shape = (28,28,1), activation = 'relu'))\n",
        "# model.add(MaxPool2D(pool_size=(2,2)))\n",
        "# model.add(BatchNormalization())\n",
        "\n",
        "# model.add(Conv2D(filters=384, kernel_size=(3,3), activation='relu', padding=\"same\"))\n",
        "# model.add(BatchNormalization())\n",
        "\n",
        "# model.add(Conv2D(filters=384, kernel_size=(3,3), activation='relu', padding=\"same\"))\n",
        "# model.add(BatchNormalization())\n",
        "\n",
        "# model.add(Conv2D(filters=256, kernel_size=(3,3), activation='relu', padding=\"same\"))\n",
        "# model.add(MaxPool2D(pool_size=(2,2)))\n",
        "# model.add(BatchNormalization())\n",
        "\n",
        "# model.add(Flatten())\n",
        "\n",
        "# model.add(Dense(4096, activation='relu'))\n",
        "# model.add(Dropout(0.5))\n",
        "# model.add(Dense(1024, activation='relu'))\n",
        "# model.add(Dropout(0.5))\n",
        "# model.add(Dense(256, activation='relu'))\n",
        "# model.add(Dropout(0.5))\n",
        "# model.add(Dense(64, activation='relu'))\n",
        "# model.add(Dropout(0.5))\n",
        "# model.add(Dense(10, activation='softmax'))\n",
        "\n",
        "# early_stopping = EarlyStopping(min_delta = 0.001,patience = 20,restore_best_weights = True,verbose = 0)\n",
        "\n",
        "# # Compile\n",
        "# model.compile(optimizer = \"adam\" , loss = 'sparse_categorical_crossentropy' , metrics = ['accuracy'])\n",
        "\n",
        "# model.summary()\n",
        "# # Train\n",
        "# hist = model.fit(X_train, Y_train, batch_size = 256, epochs = 50,callbacks = [early_stopping], validation_data=(X_val, Y_val))\n"
      ],
      "metadata": {
        "id": "Bri5WiKZhLbB"
      },
      "execution_count": 16,
      "outputs": []
    },
    {
      "cell_type": "code",
      "execution_count": 17,
      "metadata": {
        "id": "3ZsZChVtvtOG"
      },
      "outputs": [],
      "source": [
        "#Basic CNN Structure Model\n",
        "model = Sequential()\n",
        "\n",
        "#Convolutional Layer\n",
        "model.add(Conv2D(filters=64,kernel_size=(3,3), input_shape=(28,28,1),activation='relu'))# Up the number of filter if dealing with complex img\n",
        "model.add(MaxPool2D(pool_size=(2,2)))\n",
        "model.add(BatchNormalization())\n",
        "\n",
        "model.add(Conv2D(filters=128,kernel_size=(3,3),activation='relu'))# Up the number of filter if dealing with complex img\n",
        "model.add(MaxPool2D(pool_size=(2,2)))\n",
        "model.add(BatchNormalization())\n",
        "\n",
        "model.add(Conv2D(filters=512,kernel_size=(3,3),activation='relu'))# Up the number of filter if dealing with complex img\n",
        "model.add(MaxPool2D(pool_size=(2,2)))\n",
        "model.add(BatchNormalization())\n",
        "# 2D to 1D\n",
        "model.add(Flatten())\n",
        "# Dense Layer\n",
        "model.add(Dense(512,activation='relu'))\n",
        "# Output Layer\n",
        "model.add(Dense(10,activation='softmax'))\n",
        "\n",
        "model.compile(loss='categorical_crossentropy',optimizer='rmsprop',metrics=['accuracy'])"
      ]
    },
    {
      "cell_type": "markdown",
      "source": [],
      "metadata": {
        "id": "UUadoU4sZuvn"
      }
    },
    {
      "cell_type": "code",
      "source": [
        "ES = EarlyStopping(monitor = \"val_loss\", patience = 7, restore_best_weights=True)"
      ],
      "metadata": {
        "id": "upt0wLI3pY3O"
      },
      "execution_count": 18,
      "outputs": []
    },
    {
      "cell_type": "markdown",
      "source": [],
      "metadata": {
        "id": "b59eVOuMZw8I"
      }
    },
    {
      "cell_type": "code",
      "source": [
        "LRR = ReduceLROnPlateau(monitor='val_accuracy', patience=3, verbose=1, factor=0.5, min_lr=0.00001)"
      ],
      "metadata": {
        "id": "ufN1zP6dZvUX"
      },
      "execution_count": 19,
      "outputs": []
    },
    {
      "cell_type": "code",
      "execution_count": null,
      "metadata": {
        "id": "mr2DJ-yRv7P7"
      },
      "outputs": [],
      "source": [
        "model.summary()"
      ]
    },
    {
      "cell_type": "code",
      "source": [
        "#diversify the data set\n",
        "datagen = ImageDataGenerator(\n",
        "        featurewise_center=False,  # set input mean to 0 over the dataset\n",
        "        samplewise_center=False,  # set each sample mean to 0\n",
        "        featurewise_std_normalization=False,  # divide inputs by std of the dataset\n",
        "        samplewise_std_normalization=False,  # divide each input by its std\n",
        "        zca_whitening=False,  # apply ZCA whitening\n",
        "        rotation_range=10,  # randomly rotate images in the range (degrees, 0 to 180)\n",
        "        zoom_range = 0.1, # Randomly zoom image \n",
        "        width_shift_range=0.1,  # randomly shift images horizontally (fraction of total width)\n",
        "        height_shift_range=0.1,  # randomly shift images vertically (fraction of total height)\n",
        "        horizontal_flip=False,  # randomly flip images\n",
        "        vertical_flip=False)  # randomly flip images\n",
        "\n",
        "datagen.fit(X_train)"
      ],
      "metadata": {
        "id": "x-_bl3bfzoJN"
      },
      "execution_count": 21,
      "outputs": []
    },
    {
      "cell_type": "code",
      "execution_count": null,
      "metadata": {
        "colab": {
          "base_uri": "https://localhost:8080/"
        },
        "id": "S-tktCtcv921",
        "outputId": "ab479c63-0df4-4396-faf8-275bdfcdfbbc"
      },
      "outputs": [
        {
          "output_type": "stream",
          "name": "stdout",
          "text": [
            "Epoch 1/50\n"
          ]
        }
      ],
      "source": [
        "model.fit(X_train, Y_cat_train, epochs = 50, batch_size = 128128, validation_data = (X_val, Y_cat_val), verbose = 2,callbacks = [ES,LRR])"
      ]
    },
    {
      "cell_type": "code",
      "source": [
        "metrics = pd.DataFrame(model.history.history)\n",
        "print(metrics)\n",
        "metrics[[\"loss\",\"val_loss\"]].plot()"
      ],
      "metadata": {
        "id": "FB7mglk37L5U"
      },
      "execution_count": null,
      "outputs": []
    },
    {
      "cell_type": "code",
      "source": [
        "metrics[[\"accuracy\", \"val_accuracy\"]].plot()"
      ],
      "metadata": {
        "id": "v7SUf-7T7QWS"
      },
      "execution_count": null,
      "outputs": []
    },
    {
      "cell_type": "code",
      "execution_count": null,
      "metadata": {
        "id": "cykpg8Ee0VvM"
      },
      "outputs": [],
      "source": [
        "# Have the model predict the validation dataset\n",
        "prediction = model.predict(X_val.reshape(12600,28,28,1))\n",
        "Y_pred = np.argmax(prediction, axis = 1)"
      ]
    },
    {
      "cell_type": "code",
      "execution_count": null,
      "metadata": {
        "id": "BsuEYo3m0Kzc"
      },
      "outputs": [],
      "source": [
        "fig, axes = plt.subplots(1,5, figsize=(10,5))\n",
        "axes = axes.flatten()\n",
        "idx = np.random.randint(0,12600,size=5)\n",
        "for i in range(5):\n",
        "    axes[i].imshow(X_val[idx[i]].reshape(28,28), cmap=\"gray\")\n",
        "    axes[i].axis('off') # hide the axes ticks\n",
        "    axes[i].set_title(str(int(Y_pred[idx[i]])), color= 'black', fontsize=25)\n",
        "plt.show()# inspect a random 5 numbers in the test dataset predicted by the model\n"
      ]
    },
    {
      "cell_type": "markdown",
      "source": [
        "# Errors"
      ],
      "metadata": {
        "id": "EWNY4xGz50dA"
      }
    },
    {
      "cell_type": "code",
      "source": [
        "Y_val"
      ],
      "metadata": {
        "id": "SfRT_OtXmr_3"
      },
      "execution_count": null,
      "outputs": []
    },
    {
      "cell_type": "code",
      "source": [
        "errors = (Y_pred != Y_val)\n",
        "Y_pred_errors = Y_pred[errors]\n",
        "Y_val_pred_errors = prediction[errors]\n",
        "Y_val_true = Y_val[errors]\n",
        "X_val_errors = X_val[errors]"
      ],
      "metadata": {
        "id": "kncdIcoz50BB"
      },
      "execution_count": null,
      "outputs": []
    },
    {
      "cell_type": "code",
      "source": [
        "#Sorting the criticality of the errors\n",
        "Y_pred_errors_prob = np.max(Y_val_pred_errors, axis = 1)\n",
        "\n",
        "# Predicted probabilities of the true values in the error set\n",
        "true_prob_errors = np.diagonal(np.take(Y_val_pred_errors, Y_val_true, axis=1))\n",
        "\n",
        "# Difference between the probability of the predicted label and the true label\n",
        "delta_pred_true_errors = Y_pred_errors_prob - true_prob_errors\n",
        "\n",
        "# Sorted list of the delta prob errors\n",
        "sorted_dela_errors = np.argsort(delta_pred_true_errors)\n",
        "\n",
        "# Top 5 errors \n",
        "most_important_errors = sorted_dela_errors[-5:]\n"
      ],
      "metadata": {
        "id": "RyeV1uQ7-xx7"
      },
      "execution_count": null,
      "outputs": []
    },
    {
      "cell_type": "code",
      "source": [
        "# display errors\n",
        "fig, axes = plt.subplots(1,5,figsize=(10,5))\n",
        "axes = axes.flatten()\n",
        "for i in range(5):\n",
        "    idx = most_important_errors[i]\n",
        "    axes[i].imshow(X_val_errors[idx].reshape(28,28), cmap=\"gray\")\n",
        "    axes[i].axis('off') # hide the axes ticks\n",
        "    axes[i].set_title(\"Predicted label :{}\\nTrue label :{}\".format(Y_pred_errors[idx],Y_val_true[idx]), color= 'black')\n",
        "plt.show()\n"
      ],
      "metadata": {
        "id": "jO6o-lMec2E0"
      },
      "execution_count": null,
      "outputs": []
    },
    {
      "cell_type": "markdown",
      "source": [
        "From the given results, there exists overfitting problem in our module\n",
        "Resolution: Introduce early stopping and increase number proxies"
      ],
      "metadata": {
        "id": "nXQVpgrqo3cx"
      }
    }
  ],
  "metadata": {
    "colab": {
      "provenance": [],
      "include_colab_link": true
    },
    "kernelspec": {
      "display_name": "Python 3",
      "name": "python3"
    },
    "language_info": {
      "name": "python"
    }
  },
  "nbformat": 4,
  "nbformat_minor": 0
}